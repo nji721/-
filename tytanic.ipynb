{
 "metadata": {
  "language_info": {
   "codemirror_mode": {
    "name": "ipython",
    "version": 3
   },
   "file_extension": ".py",
   "mimetype": "text/x-python",
   "name": "python",
   "nbconvert_exporter": "python",
   "pygments_lexer": "ipython3",
   "version": "3.8.5-final"
  },
  "orig_nbformat": 2,
  "kernelspec": {
   "name": "python3",
   "display_name": "Python 3",
   "language": "python"
  }
 },
 "nbformat": 4,
 "nbformat_minor": 2,
 "cells": [
  {
   "cell_type": "code",
   "execution_count": 1,
   "metadata": {},
   "outputs": [],
   "source": [
    "import numpy as np\n",
    "import pandas as pd\n",
    "import seaborn as sns\n",
    "import matplotlib.pyplot as plt\n",
    "import matplotlib.dates as mdates  #date 형식으로 날짜잡아야함 x축에 시간 올 수 있도록\n",
    "from matplotlib.dates import DateFormatter #시간 세로로 나타나도록\n",
    "import datetime\n",
    "import os\n",
    "import copy   #변수가 변하지 않도록\n",
    "\n",
    "plt.style.use('seaborn') #seaborn스타일사용\n",
    "sns.set(font_scale=1.5)\n",
    "\n",
    "from matplotlib import font_manager, rc #그래프 한글사용가능\n",
    "font_name = font_manager.FontProperties(fname=\"C:/WINDOWS/FONTS/ARLRDBD.TTF\").get_name()\n",
    "rc('font', family=font_name )\n",
    "\n",
    "import matplotlib\n",
    "matplotlib.rcParams['axes.unicode_minus']=False #한글설정시 마이너스 부호 안깨지게\n",
    "\n",
    "import matplotlib.image as mping  #matplotlib 사용해서 그림파일 열때 mpimg.imread('파일명')\n",
    " #rgb반전 발생, pip install opencv-python\n",
    "from PIL import Image as image # 그림을 셀에다가 열고 싶을 때 image.open,크기 재조정 원할 때 image.resize((가로,세로))\n",
    "\n",
    "import math\n",
    "%matplotlib inline\n"
   ]
  },
  {
   "cell_type": "code",
   "execution_count": 3,
   "metadata": {},
   "outputs": [],
   "source": [
    "df_train=pd.read_csv('C:/Users/HERO/Desktop/연습/타이타닉/train.csv',index_col=False)\n",
    "df_test=pd.read_csv('C:/Users/HERO/Desktop/연습/타이타닉/test.csv',index_col=False)"
   ]
  },
  {
   "cell_type": "code",
   "execution_count": 6,
   "metadata": {},
   "outputs": [
    {
     "output_type": "execute_result",
     "data": {
      "text/plain": [
       "       PassengerId    Survived      Pclass         Age       SibSp  \\\n",
       "count   891.000000  891.000000  891.000000  714.000000  891.000000   \n",
       "mean    446.000000    0.383838    2.308642   29.699118    0.523008   \n",
       "std     257.353842    0.486592    0.836071   14.526497    1.102743   \n",
       "min       1.000000    0.000000    1.000000    0.420000    0.000000   \n",
       "25%     223.500000    0.000000    2.000000   20.125000    0.000000   \n",
       "50%     446.000000    0.000000    3.000000   28.000000    0.000000   \n",
       "75%     668.500000    1.000000    3.000000   38.000000    1.000000   \n",
       "max     891.000000    1.000000    3.000000   80.000000    8.000000   \n",
       "\n",
       "            Parch        Fare  \n",
       "count  891.000000  891.000000  \n",
       "mean     0.381594   32.204208  \n",
       "std      0.806057   49.693429  \n",
       "min      0.000000    0.000000  \n",
       "25%      0.000000    7.910400  \n",
       "50%      0.000000   14.454200  \n",
       "75%      0.000000   31.000000  \n",
       "max      6.000000  512.329200  "
      ],
      "text/html": "<div>\n<style scoped>\n    .dataframe tbody tr th:only-of-type {\n        vertical-align: middle;\n    }\n\n    .dataframe tbody tr th {\n        vertical-align: top;\n    }\n\n    .dataframe thead th {\n        text-align: right;\n    }\n</style>\n<table border=\"1\" class=\"dataframe\">\n  <thead>\n    <tr style=\"text-align: right;\">\n      <th></th>\n      <th>PassengerId</th>\n      <th>Survived</th>\n      <th>Pclass</th>\n      <th>Age</th>\n      <th>SibSp</th>\n      <th>Parch</th>\n      <th>Fare</th>\n    </tr>\n  </thead>\n  <tbody>\n    <tr>\n      <th>count</th>\n      <td>891.000000</td>\n      <td>891.000000</td>\n      <td>891.000000</td>\n      <td>714.000000</td>\n      <td>891.000000</td>\n      <td>891.000000</td>\n      <td>891.000000</td>\n    </tr>\n    <tr>\n      <th>mean</th>\n      <td>446.000000</td>\n      <td>0.383838</td>\n      <td>2.308642</td>\n      <td>29.699118</td>\n      <td>0.523008</td>\n      <td>0.381594</td>\n      <td>32.204208</td>\n    </tr>\n    <tr>\n      <th>std</th>\n      <td>257.353842</td>\n      <td>0.486592</td>\n      <td>0.836071</td>\n      <td>14.526497</td>\n      <td>1.102743</td>\n      <td>0.806057</td>\n      <td>49.693429</td>\n    </tr>\n    <tr>\n      <th>min</th>\n      <td>1.000000</td>\n      <td>0.000000</td>\n      <td>1.000000</td>\n      <td>0.420000</td>\n      <td>0.000000</td>\n      <td>0.000000</td>\n      <td>0.000000</td>\n    </tr>\n    <tr>\n      <th>25%</th>\n      <td>223.500000</td>\n      <td>0.000000</td>\n      <td>2.000000</td>\n      <td>20.125000</td>\n      <td>0.000000</td>\n      <td>0.000000</td>\n      <td>7.910400</td>\n    </tr>\n    <tr>\n      <th>50%</th>\n      <td>446.000000</td>\n      <td>0.000000</td>\n      <td>3.000000</td>\n      <td>28.000000</td>\n      <td>0.000000</td>\n      <td>0.000000</td>\n      <td>14.454200</td>\n    </tr>\n    <tr>\n      <th>75%</th>\n      <td>668.500000</td>\n      <td>1.000000</td>\n      <td>3.000000</td>\n      <td>38.000000</td>\n      <td>1.000000</td>\n      <td>0.000000</td>\n      <td>31.000000</td>\n    </tr>\n    <tr>\n      <th>max</th>\n      <td>891.000000</td>\n      <td>1.000000</td>\n      <td>3.000000</td>\n      <td>80.000000</td>\n      <td>8.000000</td>\n      <td>6.000000</td>\n      <td>512.329200</td>\n    </tr>\n  </tbody>\n</table>\n</div>"
     },
     "metadata": {},
     "execution_count": 6
    }
   ],
   "source": [
    "#train으로 test의 생존률 추정하기\n",
    "df_train.describe()"
   ]
  },
  {
   "cell_type": "code",
   "execution_count": 51,
   "metadata": {},
   "outputs": [
    {
     "output_type": "stream",
     "name": "stdout",
     "text": [
      "PassengerId :0.00%\nSurvived :0.00%\nPclass :0.00%\nName :0.00%\nSex :0.00%\nAge : 19.87 %\nSibSp :0.00%\nParch :0.00%\nTicket :0.00%\nFare :0.00%\nCabin : 77.10 %\nEmbarked : 0.22 %\n"
     ]
    }
   ],
   "source": [
    "#결측치 찾기\n",
    "for i in range(0,12):\n",
    "    a= df_train[df_train.columns[i]].isnull().sum()\n",
    "    if a !=0:\n",
    "        print(df_train.columns[i],':', '%.2f'% (float((a)/len(df_train)*100)),'%')\n",
    "    else:\n",
    "        print(df_train.columns[i],':0.00%')"
   ]
  },
  {
   "cell_type": "code",
   "execution_count": 53,
   "metadata": {},
   "outputs": [
    {
     "output_type": "stream",
     "name": "stdout",
     "text": [
      "PassengerId :0.00%\nPclass :0.00%\nName :0.00%\nSex :0.00%\nAge : 20.57 %\nSibSp :0.00%\nParch :0.00%\nTicket :0.00%\nFare : 0.24 %\nCabin : 78.23 %\nEmbarked :0.00%\n"
     ]
    }
   ],
   "source": [
    "for i in range(0,11):\n",
    "    a= df_test[df_test.columns[i]].isnull().sum()\n",
    "    if a !=0:\n",
    "        print(df_test.columns[i],':', '%.2f'% (float((a)/len(df_test)*100)),'%')\n",
    "    else:\n",
    "        print(df_test.columns[i],':0.00%')"
   ]
  },
  {
   "cell_type": "code",
   "execution_count": null,
   "metadata": {},
   "outputs": [],
   "source": []
  }
 ]
}